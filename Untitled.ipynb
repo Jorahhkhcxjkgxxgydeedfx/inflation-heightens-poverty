{
 "cells": [
  {
   "cell_type": "code",
   "execution_count": 3,
   "id": "2c1a8b61-ec70-4340-927a-521a0c0a8b18",
   "metadata": {},
   "outputs": [
    {
     "name": "stdout",
     "output_type": "stream",
     "text": [
      "Requirement already satisfied: pandas in c:\\users\\walton\\anaconda3\\lib\\site-packages (2.2.2)\n",
      "Requirement already satisfied: numpy>=1.26.0 in c:\\users\\walton\\anaconda3\\lib\\site-packages (from pandas) (1.26.4)\n",
      "Requirement already satisfied: python-dateutil>=2.8.2 in c:\\users\\walton\\anaconda3\\lib\\site-packages (from pandas) (2.9.0.post0)\n",
      "Requirement already satisfied: pytz>=2020.1 in c:\\users\\walton\\anaconda3\\lib\\site-packages (from pandas) (2024.1)\n",
      "Requirement already satisfied: tzdata>=2022.7 in c:\\users\\walton\\anaconda3\\lib\\site-packages (from pandas) (2023.3)\n",
      "Requirement already satisfied: six>=1.5 in c:\\users\\walton\\anaconda3\\lib\\site-packages (from python-dateutil>=2.8.2->pandas) (1.16.0)\n"
     ]
    }
   ],
   "source": [
    "!pip install pandas"
   ]
  },
  {
   "cell_type": "code",
   "execution_count": 5,
   "id": "7c1be0dc-20d2-4e0f-8e01-117127e5cf86",
   "metadata": {},
   "outputs": [
    {
     "name": "stdout",
     "output_type": "stream",
     "text": [
      "Requirement already satisfied: numpy in c:\\users\\walton\\anaconda3\\lib\\site-packages (1.26.4)\n"
     ]
    }
   ],
   "source": [
    "!pip install numpy"
   ]
  },
  {
   "cell_type": "code",
   "execution_count": 7,
   "id": "67f055f2-b165-4310-b045-328f59a36c9b",
   "metadata": {},
   "outputs": [
    {
     "name": "stdout",
     "output_type": "stream",
     "text": [
      "Requirement already satisfied: numpy in c:\\users\\walton\\anaconda3\\lib\\site-packages (1.26.4)\n"
     ]
    }
   ],
   "source": [
    "!pip install numpy"
   ]
  },
  {
   "cell_type": "code",
   "execution_count": 9,
   "id": "2f4b957a-86dc-4664-ab1a-07efa54073cc",
   "metadata": {},
   "outputs": [
    {
     "name": "stdout",
     "output_type": "stream",
     "text": [
      "Requirement already satisfied: seaborn in c:\\users\\walton\\anaconda3\\lib\\site-packages (0.13.2)\n",
      "Requirement already satisfied: numpy!=1.24.0,>=1.20 in c:\\users\\walton\\anaconda3\\lib\\site-packages (from seaborn) (1.26.4)\n",
      "Requirement already satisfied: pandas>=1.2 in c:\\users\\walton\\anaconda3\\lib\\site-packages (from seaborn) (2.2.2)\n",
      "Requirement already satisfied: matplotlib!=3.6.1,>=3.4 in c:\\users\\walton\\anaconda3\\lib\\site-packages (from seaborn) (3.9.2)\n",
      "Requirement already satisfied: contourpy>=1.0.1 in c:\\users\\walton\\anaconda3\\lib\\site-packages (from matplotlib!=3.6.1,>=3.4->seaborn) (1.2.0)\n",
      "Requirement already satisfied: cycler>=0.10 in c:\\users\\walton\\anaconda3\\lib\\site-packages (from matplotlib!=3.6.1,>=3.4->seaborn) (0.11.0)\n",
      "Requirement already satisfied: fonttools>=4.22.0 in c:\\users\\walton\\anaconda3\\lib\\site-packages (from matplotlib!=3.6.1,>=3.4->seaborn) (4.51.0)\n",
      "Requirement already satisfied: kiwisolver>=1.3.1 in c:\\users\\walton\\anaconda3\\lib\\site-packages (from matplotlib!=3.6.1,>=3.4->seaborn) (1.4.4)\n",
      "Requirement already satisfied: packaging>=20.0 in c:\\users\\walton\\anaconda3\\lib\\site-packages (from matplotlib!=3.6.1,>=3.4->seaborn) (24.1)\n",
      "Requirement already satisfied: pillow>=8 in c:\\users\\walton\\anaconda3\\lib\\site-packages (from matplotlib!=3.6.1,>=3.4->seaborn) (10.4.0)\n",
      "Requirement already satisfied: pyparsing>=2.3.1 in c:\\users\\walton\\anaconda3\\lib\\site-packages (from matplotlib!=3.6.1,>=3.4->seaborn) (3.1.2)\n",
      "Requirement already satisfied: python-dateutil>=2.7 in c:\\users\\walton\\anaconda3\\lib\\site-packages (from matplotlib!=3.6.1,>=3.4->seaborn) (2.9.0.post0)\n",
      "Requirement already satisfied: pytz>=2020.1 in c:\\users\\walton\\anaconda3\\lib\\site-packages (from pandas>=1.2->seaborn) (2024.1)\n",
      "Requirement already satisfied: tzdata>=2022.7 in c:\\users\\walton\\anaconda3\\lib\\site-packages (from pandas>=1.2->seaborn) (2023.3)\n",
      "Requirement already satisfied: six>=1.5 in c:\\users\\walton\\anaconda3\\lib\\site-packages (from python-dateutil>=2.7->matplotlib!=3.6.1,>=3.4->seaborn) (1.16.0)\n"
     ]
    }
   ],
   "source": [
    "!pip install seaborn"
   ]
  },
  {
   "cell_type": "code",
   "execution_count": 11,
   "id": "333a5a67-a398-489f-b450-3d39c6c3228e",
   "metadata": {},
   "outputs": [
    {
     "name": "stdout",
     "output_type": "stream",
     "text": [
      "Requirement already satisfied: matplotlib in c:\\users\\walton\\anaconda3\\lib\\site-packages (3.9.2)\n",
      "Requirement already satisfied: contourpy>=1.0.1 in c:\\users\\walton\\anaconda3\\lib\\site-packages (from matplotlib) (1.2.0)\n",
      "Requirement already satisfied: cycler>=0.10 in c:\\users\\walton\\anaconda3\\lib\\site-packages (from matplotlib) (0.11.0)\n",
      "Requirement already satisfied: fonttools>=4.22.0 in c:\\users\\walton\\anaconda3\\lib\\site-packages (from matplotlib) (4.51.0)\n",
      "Requirement already satisfied: kiwisolver>=1.3.1 in c:\\users\\walton\\anaconda3\\lib\\site-packages (from matplotlib) (1.4.4)\n",
      "Requirement already satisfied: numpy>=1.23 in c:\\users\\walton\\anaconda3\\lib\\site-packages (from matplotlib) (1.26.4)\n",
      "Requirement already satisfied: packaging>=20.0 in c:\\users\\walton\\anaconda3\\lib\\site-packages (from matplotlib) (24.1)\n",
      "Requirement already satisfied: pillow>=8 in c:\\users\\walton\\anaconda3\\lib\\site-packages (from matplotlib) (10.4.0)\n",
      "Requirement already satisfied: pyparsing>=2.3.1 in c:\\users\\walton\\anaconda3\\lib\\site-packages (from matplotlib) (3.1.2)\n",
      "Requirement already satisfied: python-dateutil>=2.7 in c:\\users\\walton\\anaconda3\\lib\\site-packages (from matplotlib) (2.9.0.post0)\n",
      "Requirement already satisfied: six>=1.5 in c:\\users\\walton\\anaconda3\\lib\\site-packages (from python-dateutil>=2.7->matplotlib) (1.16.0)\n"
     ]
    }
   ],
   "source": [
    "!pip install matplotlib"
   ]
  },
  {
   "cell_type": "code",
   "execution_count": 19,
   "id": "7e26ec15-3ecc-4c27-b0d7-e3ad8fc8ad79",
   "metadata": {},
   "outputs": [
    {
     "name": "stdout",
     "output_type": "stream",
     "text": [
      "Requirement already satisfied: statsmodels in c:\\users\\walton\\anaconda3\\lib\\site-packages (0.14.2)\n",
      "Requirement already satisfied: numpy>=1.22.3 in c:\\users\\walton\\anaconda3\\lib\\site-packages (from statsmodels) (1.26.4)\n",
      "Requirement already satisfied: scipy!=1.9.2,>=1.8 in c:\\users\\walton\\anaconda3\\lib\\site-packages (from statsmodels) (1.13.1)\n",
      "Requirement already satisfied: pandas!=2.1.0,>=1.4 in c:\\users\\walton\\anaconda3\\lib\\site-packages (from statsmodels) (2.2.2)\n",
      "Requirement already satisfied: patsy>=0.5.6 in c:\\users\\walton\\anaconda3\\lib\\site-packages (from statsmodels) (0.5.6)\n",
      "Requirement already satisfied: packaging>=21.3 in c:\\users\\walton\\anaconda3\\lib\\site-packages (from statsmodels) (24.1)\n",
      "Requirement already satisfied: python-dateutil>=2.8.2 in c:\\users\\walton\\anaconda3\\lib\\site-packages (from pandas!=2.1.0,>=1.4->statsmodels) (2.9.0.post0)\n",
      "Requirement already satisfied: pytz>=2020.1 in c:\\users\\walton\\anaconda3\\lib\\site-packages (from pandas!=2.1.0,>=1.4->statsmodels) (2024.1)\n",
      "Requirement already satisfied: tzdata>=2022.7 in c:\\users\\walton\\anaconda3\\lib\\site-packages (from pandas!=2.1.0,>=1.4->statsmodels) (2023.3)\n",
      "Requirement already satisfied: six in c:\\users\\walton\\anaconda3\\lib\\site-packages (from patsy>=0.5.6->statsmodels) (1.16.0)\n"
     ]
    }
   ],
   "source": [
    "!pip install statsmodels"
   ]
  },
  {
   "cell_type": "code",
   "execution_count": 23,
   "id": "5307d9ed-c61c-48b9-8505-a0af363cfb9f",
   "metadata": {},
   "outputs": [
    {
     "data": {
      "text/html": [
       "<div>\n",
       "<style scoped>\n",
       "    .dataframe tbody tr th:only-of-type {\n",
       "        vertical-align: middle;\n",
       "    }\n",
       "\n",
       "    .dataframe tbody tr th {\n",
       "        vertical-align: top;\n",
       "    }\n",
       "\n",
       "    .dataframe thead th {\n",
       "        text-align: right;\n",
       "    }\n",
       "</style>\n",
       "<table border=\"1\" class=\"dataframe\">\n",
       "  <thead>\n",
       "    <tr style=\"text-align: right;\">\n",
       "      <th></th>\n",
       "      <th>Country</th>\n",
       "      <th>Year</th>\n",
       "      <th>Inflation Rate</th>\n",
       "      <th>GDP per Capita</th>\n",
       "      <th>Unemployment Rate</th>\n",
       "      <th>Poverty Rate</th>\n",
       "    </tr>\n",
       "  </thead>\n",
       "  <tbody>\n",
       "    <tr>\n",
       "      <th>0</th>\n",
       "      <td>South Africa</td>\n",
       "      <td>2000</td>\n",
       "      <td>10.123848</td>\n",
       "      <td>10306.019214</td>\n",
       "      <td>9.083331</td>\n",
       "      <td>30.440325</td>\n",
       "    </tr>\n",
       "    <tr>\n",
       "      <th>1</th>\n",
       "      <td>Brazil</td>\n",
       "      <td>2014</td>\n",
       "      <td>2.952789</td>\n",
       "      <td>15154.724517</td>\n",
       "      <td>5.846846</td>\n",
       "      <td>31.358028</td>\n",
       "    </tr>\n",
       "    <tr>\n",
       "      <th>2</th>\n",
       "      <td>France</td>\n",
       "      <td>2007</td>\n",
       "      <td>16.660967</td>\n",
       "      <td>4663.714653</td>\n",
       "      <td>16.594523</td>\n",
       "      <td>18.552054</td>\n",
       "    </tr>\n",
       "    <tr>\n",
       "      <th>3</th>\n",
       "      <td>Germany</td>\n",
       "      <td>2010</td>\n",
       "      <td>19.833423</td>\n",
       "      <td>17346.040074</td>\n",
       "      <td>14.058221</td>\n",
       "      <td>34.520181</td>\n",
       "    </tr>\n",
       "    <tr>\n",
       "      <th>4</th>\n",
       "      <td>South Africa</td>\n",
       "      <td>2011</td>\n",
       "      <td>13.810694</td>\n",
       "      <td>14795.924900</td>\n",
       "      <td>23.974888</td>\n",
       "      <td>28.341133</td>\n",
       "    </tr>\n",
       "  </tbody>\n",
       "</table>\n",
       "</div>"
      ],
      "text/plain": [
       "        Country  Year  Inflation Rate  GDP per Capita  Unemployment Rate  \\\n",
       "0  South Africa  2000       10.123848    10306.019214           9.083331   \n",
       "1        Brazil  2014        2.952789    15154.724517           5.846846   \n",
       "2        France  2007       16.660967     4663.714653          16.594523   \n",
       "3       Germany  2010       19.833423    17346.040074          14.058221   \n",
       "4  South Africa  2011       13.810694    14795.924900          23.974888   \n",
       "\n",
       "   Poverty Rate  \n",
       "0     30.440325  \n",
       "1     31.358028  \n",
       "2     18.552054  \n",
       "3     34.520181  \n",
       "4     28.341133  "
      ]
     },
     "execution_count": 23,
     "metadata": {},
     "output_type": "execute_result"
    }
   ],
   "source": [
    "import pandas as pd\n",
    "import numpy as np\n",
    "\n",
    "# Set seed for reproducibility\n",
    "np.random.seed(42)\n",
    "\n",
    "# List of sample countries\n",
    "countries = ['USA', 'India', 'China', 'Brazil', 'Germany', 'Japan', 'South Africa', 'France', 'Canada', 'UK']\n",
    "\n",
    "# Generate the dataset\n",
    "num_rows = 1000\n",
    "data = {\n",
    "    'Country': np.random.choice(countries, size=num_rows),\n",
    "    'Year': np.random.choice(np.arange(2000, 2024), size=num_rows),\n",
    "    'Inflation Rate': np.random.uniform(-5, 20, size=num_rows),  # Inflation rate between -5% and 20%\n",
    "    'GDP per Capita': np.random.uniform(2000, 20000, size=num_rows),  # GDP per capita between $2,000 and $20,000\n",
    "    'Unemployment Rate': np.random.uniform(5, 25, size=num_rows),  # Unemployment rate between 5% and 25%\n",
    "}\n",
    "\n",
    "# Create a DataFrame\n",
    "df = pd.DataFrame(data)\n",
    "\n",
    "# Calculate poverty rate based on inflation (higher inflation correlates with higher poverty)\n",
    "df['Poverty Rate'] = df['Inflation Rate'] * 0.5 + np.random.uniform(10, 30, size=num_rows)\n",
    "\n",
    "# Ensure the Poverty Rate is between 10% and 40%\n",
    "df['Poverty Rate'] = df['Poverty Rate'].clip(10, 40)\n",
    "\n",
    "# Display the first few rows of the dataset\n",
    "df.head()\n"
   ]
  },
  {
   "cell_type": "code",
   "execution_count": null,
   "id": "016afdd2-8cb5-4572-a96c-19e753b69bb4",
   "metadata": {},
   "outputs": [
    {
     "name": "stdout",
     "output_type": "stream",
     "text": [
      "Dataset Overview:\n",
      "              Year  Inflation Rate  GDP per Capita  Unemployment Rate  \\\n",
      "count  1000.000000     1000.000000     1000.000000        1000.000000   \n",
      "mean   2011.577000        7.344256    11336.914757          14.829240   \n",
      "std       6.933263        7.177471     5119.016716           5.825562   \n",
      "min    2000.000000       -4.995290     2007.970066           5.003731   \n",
      "25%    2006.000000        0.892552     7129.239963           9.694399   \n",
      "50%    2012.000000        7.402678    11575.196822          14.828195   \n",
      "75%    2017.000000       13.674042    15705.082775          19.991532   \n",
      "max    2023.000000       19.992845    19991.790537          24.952456   \n",
      "\n",
      "       Poverty Rate  \n",
      "count   1000.000000  \n",
      "mean      23.451768  \n",
      "std        6.712727  \n",
      "min       10.000000  \n",
      "25%       18.282033  \n",
      "50%       23.670507  \n",
      "75%       28.385609  \n",
      "max       39.383990  \n"
     ]
    }
   ],
   "source": [
    "import pandas as pd\n",
    "import numpy as np\n",
    "import seaborn as sns\n",
    "import matplotlib.pyplot as plt\n",
    "import statsmodels.api as sm\n",
    "from sklearn.linear_model import LinearRegression\n",
    "from sklearn.model_selection import train_test_split\n",
    "from sklearn.metrics import r2_score, mean_squared_error\n",
    "\n",
    "# Generate the dataset\n",
    "np.random.seed(42)\n",
    "countries = ['USA', 'India', 'China', 'Brazil', 'Germany', 'Japan', 'South Africa', 'France', 'Canada', 'UK']\n",
    "num_rows = 1000\n",
    "data = {\n",
    "    'Country': np.random.choice(countries, size=num_rows),\n",
    "    'Year': np.random.choice(np.arange(2000, 2024), size=num_rows),\n",
    "    'Inflation Rate': np.random.uniform(-5, 20, size=num_rows),  # Inflation rate\n",
    "    'GDP per Capita': np.random.uniform(2000, 20000, size=num_rows),  # GDP per capita\n",
    "    'Unemployment Rate': np.random.uniform(5, 25, size=num_rows),  # Unemployment rate\n",
    "}\n",
    "\n",
    "df = pd.DataFrame(data)\n",
    "df['Poverty Rate'] = df['Inflation Rate'] * 0.5 + np.random.uniform(10, 30, size=num_rows)\n",
    "df['Poverty Rate'] = df['Poverty Rate'].clip(10, 40)\n",
    "\n",
    "# 1. Exploratory Data Analysis\n",
    "print(\"Dataset Overview:\")\n",
    "print(df.describe())\n",
    "\n",
    "# Correlation Heatmap\n",
    "plt.figure(figsize=(10, 6))\n",
    "sns.heatmap(df[['Inflation Rate', 'GDP per Capita', 'Unemployment Rate', 'Poverty Rate']].corr(), annot=True, cmap='coolwarm')\n",
    "plt.title(\"Correlation Heatmap\")\n",
    "plt.show()\n",
    "\n",
    "# Pair Plot\n",
    "sns.pairplot(df, vars=['Inflation Rate', 'GDP per Capita', 'Unemployment Rate', 'Poverty Rate'], kind='reg')\n",
    "plt.show()\n",
    "\n",
    "# 2. Advanced Statistical Models\n",
    "# Define features and target variable\n",
    "X = df[['Inflation Rate', 'GDP per Capita', 'Unemployment Rate']]\n",
    "y = df['Poverty Rate']\n",
    "\n",
    "# Train-Test Split\n",
    "X_train, X_test, y_train, y_test = train_test_split(X, y, test_size=0.3, random_state=42)\n",
    "\n",
    "# Fit a Multiple Linear Regression Model\n",
    "model = LinearRegression()\n",
    "model.fit(X_train, y_train)\n",
    "\n",
    "# Coefficients and Intercept\n",
    "print(\"Coefficients:\", model.coef_)\n",
    "print(\"Intercept:\", model.intercept_)\n",
    "\n",
    "# Predict and evaluate\n",
    "y_pred = model.predict(X_test)\n",
    "print(\"R-squared:\", r2_score(y_test, y_pred))\n",
    "print(\"MSE:\", mean_squared_error(y_test, y_pred))\n",
    "\n",
    "# Visualizing Regression\n",
    "plt.figure(figsize=(10, 6))\n",
    "sns.regplot(x=y_test, y=y_pred, color='blue', line_kws={\"color\": \"red\", \"alpha\": 0.7, \"lw\": 2})\n",
    "plt.xlabel(\"Actual Poverty Rate\")\n",
    "plt.ylabel(\"Predicted Poverty Rate\")\n",
    "plt.title(\"Regression Analysis: Actual vs Predicted Poverty Rate\")\n",
    "plt.show()\n",
    "\n",
    "# 3. Hypothesis Testing using OLS\n",
    "X_with_const = sm.add_constant(X)\n",
    "ols_model = sm.OLS(y, X_with_const).fit()\n",
    "print(ols_model.summary())\n",
    "\n",
    "# 4. Advanced Visualizations\n",
    "# Boxplot: Distribution of Poverty by Country\n",
    "plt.figure(figsize=(12, 6))\n",
    "sns.boxplot(x='Country', y='Poverty Rate', data=df)\n",
    "plt.xticks(rotation=45)\n",
    "plt.title(\"Poverty Rate Distribution by Country\")\n",
    "plt.show()\n",
    "\n",
    "# Advanced Scatter Plot\n",
    "plt.figure(figsize=(10, 6))\n",
    "sns.scatterplot(data=df, x='Inflation Rate', y='Poverty Rate', hue='Country', size='GDP per Capita', palette='viridis', sizes=(20, 200))\n",
    "plt.title(\"Scatter Plot: Inflation vs Poverty with GDP per Capita\")\n",
    "plt.show()\n"
   ]
  },
  {
   "cell_type": "code",
   "execution_count": null,
   "id": "32c5ac3c-20ce-4d7b-b82a-ce8ce210a953",
   "metadata": {},
   "outputs": [],
   "source": []
  }
 ],
 "metadata": {
  "kernelspec": {
   "display_name": "Python 3 (ipykernel)",
   "language": "python",
   "name": "python3"
  },
  "language_info": {
   "codemirror_mode": {
    "name": "ipython",
    "version": 3
   },
   "file_extension": ".py",
   "mimetype": "text/x-python",
   "name": "python",
   "nbconvert_exporter": "python",
   "pygments_lexer": "ipython3",
   "version": "3.12.7"
  }
 },
 "nbformat": 4,
 "nbformat_minor": 5
}
